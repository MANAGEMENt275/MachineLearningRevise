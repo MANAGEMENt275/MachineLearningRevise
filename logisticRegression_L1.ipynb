{
  "nbformat": 4,
  "nbformat_minor": 0,
  "metadata": {
    "colab": {
      "provenance": [],
      "authorship_tag": "ABX9TyOf3lk4yhLN+/4iFh1hahPf",
      "include_colab_link": true
    },
    "kernelspec": {
      "name": "python3",
      "display_name": "Python 3"
    },
    "language_info": {
      "name": "python"
    }
  },
  "cells": [
    {
      "cell_type": "markdown",
      "metadata": {
        "id": "view-in-github",
        "colab_type": "text"
      },
      "source": [
        "<a href=\"https://colab.research.google.com/github/MANAGEMENt275/MachineLearningRevise/blob/main/logisticRegression_L1.ipynb\" target=\"_parent\"><img src=\"https://colab.research.google.com/assets/colab-badge.svg\" alt=\"Open In Colab\"/></a>"
      ]
    },
    {
      "cell_type": "code",
      "execution_count": null,
      "metadata": {
        "id": "hqZ1ZR93YVq9"
      },
      "outputs": [],
      "source": [
        "# import fireducks.pandas as pd\n",
        "import numpy as np\n",
        "import matplotlib.pyplot as plt\n",
        "import seaborn as sns\n",
        "import warnings\n",
        "\n"
      ]
    },
    {
      "cell_type": "code",
      "source": [
        "class LogisticRegression:\n",
        "    def __init__(self, lr=0.01, n_iters=1000):\n",
        "        self.lr = lr\n",
        "        self.n_iters = n_iters\n",
        "        self.weights = None\n",
        "        self.bias = None\n",
        "    def fit(self, X, y):\n",
        "        n_samples, n_features = X.shape\n",
        "        self.weights = np.zeros(n_features)\n",
        "        self.bias = 0\n",
        "        for _ in range(self.n_iters):\n",
        "            z = np.dot(X, self.weights) + self.bias\n",
        "            y_pred = 1/(1+np.exp(-z))\n",
        "            dw  = (1/n_samples)*np.dot(X.T,(y_pred-y))\n",
        "            db = (1/n_samples)*np.sum(y_pred-y)\n",
        "            self.weights -= self.lr*dw\n",
        "            self.bias -= self.lr*db\n",
        "    def predict(self, X):\n",
        "        z = np.dot(X, self.weights) + self.bias\n",
        "        y_pred = 1/(1+np.exp(-z))\n",
        "        y_pred_cls = [1 if i > 0.5 else 0 for i in y_pred]\n",
        "        return np.array(y_pred_cls)\n",
        "        # y_pred = 1/(1+np.exp(-z))\n",
        "        # y_pred_cls = [1 if i > 0.5 else 0 for i in y_pred]\n",
        "        # return np.array(y)\n",
        "    def accuracy(self, y_pred, y_test):\n",
        "        return np.sum(y_pred==y_test)/len(y_test)\n"
      ],
      "metadata": {
        "id": "o20tBQe4YiMA"
      },
      "execution_count": null,
      "outputs": []
    },
    {
      "cell_type": "code",
      "source": [],
      "metadata": {
        "id": "V0ERWXf1bxuA"
      },
      "execution_count": null,
      "outputs": []
    },
    {
      "cell_type": "code",
      "source": [
        "from sklearn.model_selection import train_test_split\n",
        "from sklearn import datasets"
      ],
      "metadata": {
        "id": "5lIubBkyYiOS"
      },
      "execution_count": null,
      "outputs": []
    },
    {
      "cell_type": "code",
      "source": [
        "bc= datasets.load_breast_cancer()\n",
        "X, y = bc.data, bc.target\n",
        "x_train, x_test, y_train, y_test = train_test_split(X, y, test_size=0.2, random_state=1234)"
      ],
      "metadata": {
        "id": "0AoA_VTnYiQk"
      },
      "execution_count": null,
      "outputs": []
    },
    {
      "cell_type": "code",
      "source": [
        "x_train.shape"
      ],
      "metadata": {
        "colab": {
          "base_uri": "https://localhost:8080/"
        },
        "id": "J7p0EOsVYiTE",
        "outputId": "6fc84208-b8e3-44b0-a568-b7875a7fb8bd"
      },
      "execution_count": null,
      "outputs": [
        {
          "output_type": "execute_result",
          "data": {
            "text/plain": [
              "(455, 30)"
            ]
          },
          "metadata": {},
          "execution_count": 44
        }
      ]
    },
    {
      "cell_type": "code",
      "source": [
        "lnr = LogisticRegression(lr=0.1, n_iters=1000)\n",
        "lnr.fit(x_train, y_train)\n",
        "y_pred = lnr.predict(x_test)\n",
        "print(lnr.accuracy(y_pred, y_test))"
      ],
      "metadata": {
        "colab": {
          "base_uri": "https://localhost:8080/"
        },
        "id": "qsL7QY2GYiVA",
        "outputId": "4f89d576-c5dd-4cea-da3b-8d8a6b2e2dea"
      },
      "execution_count": null,
      "outputs": [
        {
          "output_type": "stream",
          "name": "stdout",
          "text": [
            "0.9210526315789473\n"
          ]
        },
        {
          "output_type": "stream",
          "name": "stderr",
          "text": [
            "<ipython-input-41-471883950658>:13: RuntimeWarning: overflow encountered in exp\n",
            "  y_pred = 1/(1+np.exp(-z))\n",
            "<ipython-input-41-471883950658>:20: RuntimeWarning: overflow encountered in exp\n",
            "  y_pred = 1/(1+np.exp(-z))\n"
          ]
        }
      ]
    },
    {
      "cell_type": "code",
      "source": [
        "lnr.weights.shape"
      ],
      "metadata": {
        "colab": {
          "base_uri": "https://localhost:8080/"
        },
        "id": "4l__FrS5YiXZ",
        "outputId": "fc7b8808-9212-4221-a37d-4e327bb016c4"
      },
      "execution_count": null,
      "outputs": [
        {
          "output_type": "execute_result",
          "data": {
            "text/plain": [
              "(30,)"
            ]
          },
          "metadata": {},
          "execution_count": 46
        }
      ]
    },
    {
      "cell_type": "code",
      "source": [
        "lnr.weights"
      ],
      "metadata": {
        "colab": {
          "base_uri": "https://localhost:8080/"
        },
        "id": "GJTo4nK2Yia5",
        "outputId": "73ae5616-4cf0-4875-d9df-6b72dbbf40d5"
      },
      "execution_count": null,
      "outputs": [
        {
          "output_type": "execute_result",
          "data": {
            "text/plain": [
              "array([ 3.09040025e+01,  4.21125780e+01,  1.78756274e+02,  7.05229734e+01,\n",
              "        2.75087892e-01, -1.57003914e-01, -5.87026737e-01, -2.44026745e-01,\n",
              "        5.38216139e-01,  2.21843085e-01,  1.36803998e-01,  2.88890986e+00,\n",
              "       -1.17427973e+00, -8.02496137e+01,  1.36147153e-02, -4.74381264e-02,\n",
              "       -7.57281337e-02, -1.06159520e-02,  5.36069325e-02,  1.47502020e-03,\n",
              "        3.27409573e+01,  5.34302209e+01,  1.79419384e+02, -9.65252689e+01,\n",
              "        3.39320037e-01, -6.58984903e-01, -1.24519660e+00, -2.87927037e-01,\n",
              "        7.57725636e-01,  1.92487183e-01])"
            ]
          },
          "metadata": {},
          "execution_count": 47
        }
      ]
    },
    {
      "cell_type": "code",
      "source": [
        "x_train.shape"
      ],
      "metadata": {
        "colab": {
          "base_uri": "https://localhost:8080/"
        },
        "id": "C54lAWxKct1U",
        "outputId": "a3e2f56b-cb26-43f0-e6eb-bd1a2a586505"
      },
      "execution_count": null,
      "outputs": [
        {
          "output_type": "execute_result",
          "data": {
            "text/plain": [
              "(455, 30)"
            ]
          },
          "metadata": {},
          "execution_count": 48
        }
      ]
    },
    {
      "cell_type": "code",
      "source": [
        "samplex= np.array([[1,2],[3,4],[4,5]])\n",
        "samplex.shape"
      ],
      "metadata": {
        "colab": {
          "base_uri": "https://localhost:8080/"
        },
        "id": "pUQosqCthKZC",
        "outputId": "9de6d6c1-bbb7-42bf-e034-1af1f0d48cc7"
      },
      "execution_count": null,
      "outputs": [
        {
          "output_type": "execute_result",
          "data": {
            "text/plain": [
              "(3, 2)"
            ]
          },
          "metadata": {},
          "execution_count": 50
        }
      ]
    },
    {
      "cell_type": "code",
      "source": [
        "t_samplex = samplex.T\n",
        "t_samplex"
      ],
      "metadata": {
        "colab": {
          "base_uri": "https://localhost:8080/"
        },
        "id": "yXU6sep0hKbo",
        "outputId": "2155fb2c-998d-4f48-acdc-b97790c6138e"
      },
      "execution_count": null,
      "outputs": [
        {
          "output_type": "execute_result",
          "data": {
            "text/plain": [
              "array([[1, 3, 4],\n",
              "       [2, 4, 5]])"
            ]
          },
          "metadata": {},
          "execution_count": 54
        }
      ]
    },
    {
      "cell_type": "code",
      "source": [
        "samplex.T.shape"
      ],
      "metadata": {
        "colab": {
          "base_uri": "https://localhost:8080/"
        },
        "id": "Pw3LH6SwhKfG",
        "outputId": "42c52c71-3cd0-4e86-f5d7-5c45a36460bc"
      },
      "execution_count": null,
      "outputs": [
        {
          "output_type": "execute_result",
          "data": {
            "text/plain": [
              "(2, 3)"
            ]
          },
          "metadata": {},
          "execution_count": 56
        }
      ]
    }
  ]
}