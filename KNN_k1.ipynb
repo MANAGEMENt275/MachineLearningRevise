{
  "nbformat": 4,
  "nbformat_minor": 0,
  "metadata": {
    "colab": {
      "provenance": [],
      "authorship_tag": "ABX9TyM9aRqXzgv92Wv3o+FYDJOc",
      "include_colab_link": true
    },
    "kernelspec": {
      "name": "python3",
      "display_name": "Python 3"
    },
    "language_info": {
      "name": "python"
    }
  },
  "cells": [
    {
      "cell_type": "markdown",
      "metadata": {
        "id": "view-in-github",
        "colab_type": "text"
      },
      "source": [
        "<a href=\"https://colab.research.google.com/github/MANAGEMENt275/MachineLearningRevise/blob/main/KNN_k1.ipynb\" target=\"_parent\"><img src=\"https://colab.research.google.com/assets/colab-badge.svg\" alt=\"Open In Colab\"/></a>"
      ]
    },
    {
      "cell_type": "code",
      "execution_count": 81,
      "metadata": {
        "id": "gC1Qxy3tkVPc"
      },
      "outputs": [],
      "source": [
        "# !pip install fireducks\n",
        "\n",
        "import fireducks.pandas as pd\n",
        "import numpy as np\n",
        "import matplotlib.pyplot as plt\n",
        "import math"
      ]
    },
    {
      "cell_type": "code",
      "source": [
        "def euclidean_distance(x1,x2):\n",
        "    distance = 0\n",
        "    for i in range(len(x1)):\n",
        "      for j in range(len(x2)):\n",
        "          distance += pow((x1.iloc[i,:]-x2.iloc[j,:]),2)\n",
        "    return math.sqrt(np.array(distance))\n",
        "def euclidean_distance2(x1,x2):\n",
        "    distance = 0\n",
        "    for i in x1:\n",
        "      for j in x2:\n",
        "          distance += pow((float(i)-float(j)),2)\n",
        "    return math.sqrt(np.array(distance))\n",
        "class knn:\n",
        "    def __init__(self, k=5):\n",
        "        self.k = k\n",
        "    def fit (self, X, y):\n",
        "        self.X_train = X\n",
        "        self.y_train = y\n",
        "    def euclidean_distance(self,x1,x2):\n",
        "        distance = 0\n",
        "        for i in range(len(x1)):\n",
        "          for j in range(len(x2)):\n",
        "              distance += pow((x1.iloc[i,:]-x2.iloc[j,:]),2)\n",
        "        return math.sqrt(distance)\n",
        "\n",
        "\n",
        "\n",
        "\n",
        "    def predict (self,X):\n",
        "      y_pred = [self._predict(x) for x in X]\n",
        "      return np.array(y_pred)\n",
        "\n",
        "    def _predict(self,x1,X2):\n",
        "      distances = [self.euclidean_distance(x1,X2)]\n",
        "      print(distances)\n",
        "\n",
        "\n",
        "\n"
      ],
      "metadata": {
        "id": "O29Vkux-k2Da"
      },
      "execution_count": 82,
      "outputs": []
    },
    {
      "cell_type": "code",
      "source": [
        "# prompt: import diabetes dataset form sk learn datasets\n",
        "\n",
        "import pandas as pd\n",
        "import numpy as np\n",
        "import matplotlib.pyplot as plt\n",
        "from sklearn import datasets\n",
        "\n",
        "# Load the diabetes dataset\n",
        "\n",
        "diabetes = datasets.load_diabetes()\n",
        "\n",
        "# Convert to pandas DataFrame (optional, but often helpful)\n",
        "df = pd.DataFrame(data=diabetes.data, columns=diabetes.feature_names)\n",
        "df['target'] = diabetes.target\n",
        "\n",
        "\n",
        "X = df.drop('target', axis=1)\n",
        "y = df['target']\n",
        "# X.iloc[1,:]"
      ],
      "metadata": {
        "id": "HKTG3Kpyk2GA"
      },
      "execution_count": 83,
      "outputs": []
    },
    {
      "cell_type": "code",
      "source": [
        "X_train = X.iloc[:400,:]\n",
        "y_train = y.iloc[:400]\n",
        "X_test = X.iloc[400:,:]\n",
        "y_test = y.iloc[400:]"
      ],
      "metadata": {
        "id": "MCYtY0Nyk2H-"
      },
      "execution_count": 84,
      "outputs": []
    },
    {
      "cell_type": "code",
      "source": [
        "# X_train.iloc[1,:]"
      ],
      "metadata": {
        "id": "Fd0bXKXwk2Kl"
      },
      "execution_count": 85,
      "outputs": []
    },
    {
      "cell_type": "code",
      "source": [
        "xtrain  = np.array(X_train)\n",
        "xtrain[1]"
      ],
      "metadata": {
        "colab": {
          "base_uri": "https://localhost:8080/"
        },
        "id": "iFbjljKSk2NE",
        "outputId": "ca4afc0f-8dba-4e24-adee-4b05a892a3ed"
      },
      "execution_count": 86,
      "outputs": [
        {
          "output_type": "execute_result",
          "data": {
            "text/plain": [
              "array([-0.00188202, -0.04464164, -0.05147406, -0.02632753, -0.00844872,\n",
              "       -0.01916334,  0.07441156, -0.03949338, -0.06833155, -0.09220405])"
            ]
          },
          "metadata": {},
          "execution_count": 86
        }
      ]
    },
    {
      "cell_type": "code",
      "source": [
        "# print(X_train.iloc[1,:])\n",
        "# print(X_train.iloc[1,0])\n",
        "sub = X_train.iloc[1,:]-X_train.iloc[1,:]\n",
        "print(sub)"
      ],
      "metadata": {
        "colab": {
          "base_uri": "https://localhost:8080/"
        },
        "id": "17Za37wVk2O5",
        "outputId": "b6b8b081-d257-4ea6-afbd-29ee5a427ebc"
      },
      "execution_count": 87,
      "outputs": [
        {
          "output_type": "stream",
          "name": "stdout",
          "text": [
            "age    0.0\n",
            "sex    0.0\n",
            "bmi    0.0\n",
            "bp     0.0\n",
            "s1     0.0\n",
            "s2     0.0\n",
            "s3     0.0\n",
            "s4     0.0\n",
            "s5     0.0\n",
            "s6     0.0\n",
            "Name: 1, dtype: float64\n"
          ]
        }
      ]
    },
    {
      "cell_type": "code",
      "source": [
        "Objknn = knn(5)\n",
        "fit = Objknn._predict(X_test,X_train)"
      ],
      "metadata": {
        "colab": {
          "base_uri": "https://localhost:8080/",
          "height": 315
        },
        "id": "3TYkmwR-qtKz",
        "outputId": "06c6690a-31a4-4093-a154-e8101da6bc1a"
      },
      "execution_count": 88,
      "outputs": [
        {
          "output_type": "error",
          "ename": "TypeError",
          "evalue": "cannot convert the series to <class 'float'>",
          "traceback": [
            "\u001b[0;31m---------------------------------------------------------------------------\u001b[0m",
            "\u001b[0;31mTypeError\u001b[0m                                 Traceback (most recent call last)",
            "\u001b[0;32m<ipython-input-88-52da9e068df2>\u001b[0m in \u001b[0;36m<cell line: 2>\u001b[0;34m()\u001b[0m\n\u001b[1;32m      1\u001b[0m \u001b[0mObjknn\u001b[0m \u001b[0;34m=\u001b[0m \u001b[0mknn\u001b[0m\u001b[0;34m(\u001b[0m\u001b[0;36m5\u001b[0m\u001b[0;34m)\u001b[0m\u001b[0;34m\u001b[0m\u001b[0;34m\u001b[0m\u001b[0m\n\u001b[0;32m----> 2\u001b[0;31m \u001b[0mfit\u001b[0m \u001b[0;34m=\u001b[0m \u001b[0mObjknn\u001b[0m\u001b[0;34m.\u001b[0m\u001b[0m_predict\u001b[0m\u001b[0;34m(\u001b[0m\u001b[0mX_test\u001b[0m\u001b[0;34m,\u001b[0m\u001b[0mX_train\u001b[0m\u001b[0;34m)\u001b[0m\u001b[0;34m\u001b[0m\u001b[0;34m\u001b[0m\u001b[0m\n\u001b[0m",
            "\u001b[0;32m<ipython-input-82-6e6f2369cf26>\u001b[0m in \u001b[0;36m_predict\u001b[0;34m(self, x1, X2)\u001b[0m\n\u001b[1;32m     32\u001b[0m \u001b[0;34m\u001b[0m\u001b[0m\n\u001b[1;32m     33\u001b[0m     \u001b[0;32mdef\u001b[0m \u001b[0m_predict\u001b[0m\u001b[0;34m(\u001b[0m\u001b[0mself\u001b[0m\u001b[0;34m,\u001b[0m\u001b[0mx1\u001b[0m\u001b[0;34m,\u001b[0m\u001b[0mX2\u001b[0m\u001b[0;34m)\u001b[0m\u001b[0;34m:\u001b[0m\u001b[0;34m\u001b[0m\u001b[0;34m\u001b[0m\u001b[0m\n\u001b[0;32m---> 34\u001b[0;31m       \u001b[0mdistances\u001b[0m \u001b[0;34m=\u001b[0m \u001b[0;34m[\u001b[0m\u001b[0mself\u001b[0m\u001b[0;34m.\u001b[0m\u001b[0meuclidean_distance\u001b[0m\u001b[0;34m(\u001b[0m\u001b[0mx1\u001b[0m\u001b[0;34m,\u001b[0m\u001b[0mX2\u001b[0m\u001b[0;34m)\u001b[0m\u001b[0;34m]\u001b[0m\u001b[0;34m\u001b[0m\u001b[0;34m\u001b[0m\u001b[0m\n\u001b[0m\u001b[1;32m     35\u001b[0m       \u001b[0mprint\u001b[0m\u001b[0;34m(\u001b[0m\u001b[0mdistances\u001b[0m\u001b[0;34m)\u001b[0m\u001b[0;34m\u001b[0m\u001b[0;34m\u001b[0m\u001b[0m\n\u001b[1;32m     36\u001b[0m \u001b[0;34m\u001b[0m\u001b[0m\n",
            "\u001b[0;32m<ipython-input-82-6e6f2369cf26>\u001b[0m in \u001b[0;36meuclidean_distance\u001b[0;34m(self, x1, x2)\u001b[0m\n\u001b[1;32m     22\u001b[0m           \u001b[0;32mfor\u001b[0m \u001b[0mj\u001b[0m \u001b[0;32min\u001b[0m \u001b[0mrange\u001b[0m\u001b[0;34m(\u001b[0m\u001b[0mlen\u001b[0m\u001b[0;34m(\u001b[0m\u001b[0mx2\u001b[0m\u001b[0;34m)\u001b[0m\u001b[0;34m)\u001b[0m\u001b[0;34m:\u001b[0m\u001b[0;34m\u001b[0m\u001b[0;34m\u001b[0m\u001b[0m\n\u001b[1;32m     23\u001b[0m               \u001b[0mdistance\u001b[0m \u001b[0;34m+=\u001b[0m \u001b[0mpow\u001b[0m\u001b[0;34m(\u001b[0m\u001b[0;34m(\u001b[0m\u001b[0mx1\u001b[0m\u001b[0;34m.\u001b[0m\u001b[0miloc\u001b[0m\u001b[0;34m[\u001b[0m\u001b[0mi\u001b[0m\u001b[0;34m,\u001b[0m\u001b[0;34m:\u001b[0m\u001b[0;34m]\u001b[0m\u001b[0;34m-\u001b[0m\u001b[0mx2\u001b[0m\u001b[0;34m.\u001b[0m\u001b[0miloc\u001b[0m\u001b[0;34m[\u001b[0m\u001b[0mj\u001b[0m\u001b[0;34m,\u001b[0m\u001b[0;34m:\u001b[0m\u001b[0;34m]\u001b[0m\u001b[0;34m)\u001b[0m\u001b[0;34m,\u001b[0m\u001b[0;36m2\u001b[0m\u001b[0;34m)\u001b[0m\u001b[0;34m\u001b[0m\u001b[0;34m\u001b[0m\u001b[0m\n\u001b[0;32m---> 24\u001b[0;31m         \u001b[0;32mreturn\u001b[0m \u001b[0mmath\u001b[0m\u001b[0;34m.\u001b[0m\u001b[0msqrt\u001b[0m\u001b[0;34m(\u001b[0m\u001b[0mdistance\u001b[0m\u001b[0;34m)\u001b[0m\u001b[0;34m\u001b[0m\u001b[0;34m\u001b[0m\u001b[0m\n\u001b[0m\u001b[1;32m     25\u001b[0m \u001b[0;34m\u001b[0m\u001b[0m\n\u001b[1;32m     26\u001b[0m \u001b[0;34m\u001b[0m\u001b[0m\n",
            "\u001b[0;32m/usr/local/lib/python3.10/dist-packages/pandas/core/series.py\u001b[0m in \u001b[0;36mwrapper\u001b[0;34m(self)\u001b[0m\n\u001b[1;32m    246\u001b[0m             )\n\u001b[1;32m    247\u001b[0m             \u001b[0;32mreturn\u001b[0m \u001b[0mconverter\u001b[0m\u001b[0;34m(\u001b[0m\u001b[0mself\u001b[0m\u001b[0;34m.\u001b[0m\u001b[0miloc\u001b[0m\u001b[0;34m[\u001b[0m\u001b[0;36m0\u001b[0m\u001b[0;34m]\u001b[0m\u001b[0;34m)\u001b[0m\u001b[0;34m\u001b[0m\u001b[0;34m\u001b[0m\u001b[0m\n\u001b[0;32m--> 248\u001b[0;31m         \u001b[0;32mraise\u001b[0m \u001b[0mTypeError\u001b[0m\u001b[0;34m(\u001b[0m\u001b[0;34mf\"cannot convert the series to {converter}\"\u001b[0m\u001b[0;34m)\u001b[0m\u001b[0;34m\u001b[0m\u001b[0;34m\u001b[0m\u001b[0m\n\u001b[0m\u001b[1;32m    249\u001b[0m \u001b[0;34m\u001b[0m\u001b[0m\n\u001b[1;32m    250\u001b[0m     \u001b[0mwrapper\u001b[0m\u001b[0;34m.\u001b[0m\u001b[0m__name__\u001b[0m \u001b[0;34m=\u001b[0m \u001b[0;34mf\"__{converter.__name__}__\"\u001b[0m\u001b[0;34m\u001b[0m\u001b[0;34m\u001b[0m\u001b[0m\n",
            "\u001b[0;31mTypeError\u001b[0m: cannot convert the series to <class 'float'>"
          ]
        }
      ]
    },
    {
      "cell_type": "code",
      "source": [
        "euclidean_distance(X_test,X_train)"
      ],
      "metadata": {
        "id": "llKfY9HfqtNS"
      },
      "execution_count": null,
      "outputs": []
    },
    {
      "cell_type": "code",
      "source": [
        "euclidean_distance2(X_test,X_train)"
      ],
      "metadata": {
        "id": "t6q8W0J0qtPy"
      },
      "execution_count": null,
      "outputs": []
    },
    {
      "cell_type": "code",
      "source": [],
      "metadata": {
        "id": "nYqXr7DRqtTJ"
      },
      "execution_count": null,
      "outputs": []
    },
    {
      "cell_type": "code",
      "source": [],
      "metadata": {
        "id": "JgVzklFxk2Sc"
      },
      "execution_count": null,
      "outputs": []
    },
    {
      "cell_type": "code",
      "source": [],
      "metadata": {
        "id": "LKntIYjskh-b"
      },
      "execution_count": null,
      "outputs": []
    },
    {
      "cell_type": "code",
      "source": [
        "# prompt: implement the eculidean distance using nested for loops\n",
        "\n",
        "import fireducks.pandas as pd\n",
        "import numpy as np\n",
        "import matplotlib.pyplot as plt\n",
        "import math\n",
        "import pandas as pd\n",
        "import numpy as np\n",
        "from sklearn import datasets\n",
        "# !pip install fireducks\n",
        "\n",
        "def euclidean_distance(x1,x2):\n",
        "    distance = 0\n",
        "    for i in range(len(x1)):\n",
        "        for j in range(len(x2)):\n",
        "            distance += pow((x1.iloc[i,:]-x2.iloc[j,:]),2)\n",
        "    return math.sqrt(np.array(distance))\n",
        "\n",
        "def euclidean_distance2(x1,x2):\n",
        "    distance = 0\n",
        "    for i in x1:\n",
        "        for j in x2:\n",
        "            distance += pow((float(i)-float(j)),2)\n",
        "    return math.sqrt(np.array(distance))\n",
        "\n",
        "class knn:\n",
        "    def __init__(self, k=5):\n",
        "        self.k = k\n",
        "    def fit (self, X, y):\n",
        "        self.X_train = X\n",
        "        self.y_train = y\n",
        "\n",
        "    def euclidean_distance(self,x1,x2):\n",
        "        distance = 0\n",
        "        for i in range(len(x1)):\n",
        "            for j in range(len(x2)):\n",
        "                distance += pow((x1.iloc[i,:]-x2.iloc[j,:]),2)\n",
        "        return math.sqrt(distance)\n",
        "\n",
        "    def predict (self,X):\n",
        "      y_pred = [self._predict(x) for x in X]\n",
        "      return np.array(y_pred)\n",
        "\n",
        "    def _predict(self,x1,X2):\n",
        "      distances = [self.euclidean_distance(x1,X2)]\n",
        "      print(distances)\n",
        "\n",
        "# Load the diabetes dataset\n",
        "diabetes = datasets.load_diabetes()\n",
        "\n",
        "# Convert to pandas DataFrame\n",
        "df = pd.DataFrame(data=diabetes.data, columns=diabetes.feature_names)\n",
        "df['target'] = diabetes.target\n",
        "\n",
        "X = df.drop('target', axis=1)\n",
        "y = df['target']\n",
        "\n",
        "X_train = X.iloc[:400,:]\n",
        "y_train = y.iloc[:400]\n",
        "X_test = X.iloc[400:,:]\n",
        "y_test = y.iloc[400:]\n",
        "\n",
        "xtrain  = np.array(X_train)\n",
        "sub = X_train.iloc[1,:]-X_train.iloc[1,:]\n",
        "print(sub)\n",
        "\n",
        "Objknn = knn(5)\n",
        "fit = Objknn._predict(X_test,X_train)\n",
        "\n",
        "#This will now correctly call your euclidean_distance function with nested loops\n",
        "result1 = euclidean_distance(X_test,X_train)\n",
        "print(f\"Euclidean Distance (nested loops,DataFrame): {result1}\")\n",
        "\n",
        "result2 = euclidean_distance2(X_test.iloc[0,:], X_train.iloc[0,:])\n",
        "print(f\"Euclidean Distance (nested loops, Series): {result2}\")"
      ],
      "metadata": {
        "id": "yxAHEZ0EkiA8"
      },
      "execution_count": null,
      "outputs": []
    },
    {
      "cell_type": "code",
      "source": [],
      "metadata": {
        "id": "6-be56sqkiDM"
      },
      "execution_count": null,
      "outputs": []
    },
    {
      "cell_type": "code",
      "source": [],
      "metadata": {
        "id": "17LY939vkiGo"
      },
      "execution_count": null,
      "outputs": []
    }
  ]
}